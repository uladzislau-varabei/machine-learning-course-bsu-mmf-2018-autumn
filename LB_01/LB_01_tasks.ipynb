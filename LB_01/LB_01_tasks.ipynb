{
 "cells": [
  {
   "cell_type": "markdown",
   "metadata": {},
   "source": [
    "# Лабораторная работа №1\n",
    "## <Имя Фамилия>, <дата>"
   ]
  },
  {
   "cell_type": "code",
   "execution_count": null,
   "metadata": {},
   "outputs": [],
   "source": [
    "### Your code here: imports, data loading..."
   ]
  },
  {
   "cell_type": "markdown",
   "metadata": {},
   "source": [
    "### Задание 1\n",
    "1. Найти 20 самых частых типов жалоб (столбец Complaint Type)\n",
    "2. На круговой диаграмме (pie chart) отобразить несколько наиболее частых причин происшествий, для всех остальных значений столбца использовать метку Other"
   ]
  },
  {
   "cell_type": "code",
   "execution_count": null,
   "metadata": {},
   "outputs": [],
   "source": [
    "### Your code here"
   ]
  },
  {
   "cell_type": "markdown",
   "metadata": {},
   "source": [
    "### Задание 2\n",
    "Найти типы жалоб, которые встречаются в данных 20 и менее раз (например, последовательно используя функции filter и value_counts)"
   ]
  },
  {
   "cell_type": "code",
   "execution_count": null,
   "metadata": {},
   "outputs": [],
   "source": [
    "### Your code here"
   ]
  },
  {
   "cell_type": "markdown",
   "metadata": {},
   "source": [
    "### Задание 3 \n",
    "1. Создать столбец 'Created_time', в который поместить время создания записи (столбец 'Created Date') в десятичном формате, например, время 22.30.15 следует перевести в 22.5\n",
    "2. Создать столбец 'Created_hour', в который поместить час создания записи\n",
    "3. Построить bar-график столбца 'Created_hour'"
   ]
  },
  {
   "cell_type": "code",
   "execution_count": null,
   "metadata": {},
   "outputs": [],
   "source": [
    "### Your code here"
   ]
  },
  {
   "cell_type": "markdown",
   "metadata": {},
   "source": [
    "### Задание 4\n",
    "Построить гистограммы времени обращений по происшествиям для 5 наиболее распоространненных организаций (столбец 'Agency')"
   ]
  },
  {
   "cell_type": "code",
   "execution_count": null,
   "metadata": {},
   "outputs": [],
   "source": [
    "### Your code here"
   ]
  },
  {
   "cell_type": "markdown",
   "metadata": {},
   "source": [
    "### Задание 5\n",
    "1. Создать новый столбец 'Created_formatted_date': он должен содержать дату в формате YYYY/MM/DD. Его значения строить на основе столбца 'Created date'\n",
    "2. Выбрать от 5 до 10 различных типов происшествий и построить совместный график числа вызовов по каждому типу в течении всего доступного временного отрезка"
   ]
  },
  {
   "cell_type": "code",
   "execution_count": null,
   "metadata": {},
   "outputs": [],
   "source": [
    "### Your code here"
   ]
  },
  {
   "cell_type": "markdown",
   "metadata": {},
   "source": [
    "### Задание 6\n",
    "Для записей, у которых колонка City принимает значение BROOKLYN, NEW YORK или BRONX, вычислить процент нарушений для каждого часа. Результат отобразить на совместном графике"
   ]
  },
  {
   "cell_type": "code",
   "execution_count": null,
   "metadata": {},
   "outputs": [],
   "source": [
    "### Your code here"
   ]
  },
  {
   "cell_type": "markdown",
   "metadata": {},
   "source": [
    "### Задание 7"
   ]
  },
  {
   "cell_type": "markdown",
   "metadata": {},
   "source": [
    "Используя библиотеку gmplot или gmaps, придумайте интересную визуализацию. <br>\n",
    "Ниже пример двух тепловых карт: синим цветом обозначены места, в которых нарушение 'Illegal Parking' произошло с 21.00 до 6.00, оранжевым — это же нарушение в период с 12.00 до 18.00"
   ]
  },
  {
   "cell_type": "markdown",
   "metadata": {},
   "source": [
    "![title](img/task7.png)"
   ]
  },
  {
   "cell_type": "code",
   "execution_count": null,
   "metadata": {},
   "outputs": [],
   "source": [
    "### Your code here"
   ]
  },
  {
   "cell_type": "code",
   "execution_count": null,
   "metadata": {},
   "outputs": [],
   "source": []
  },
  {
   "cell_type": "code",
   "execution_count": null,
   "metadata": {},
   "outputs": [],
   "source": []
  }
 ],
 "metadata": {
  "kernelspec": {
   "display_name": "Python [conda env:geodata]",
   "language": "python",
   "name": "conda-env-geodata-py"
  },
  "language_info": {
   "codemirror_mode": {
    "name": "ipython",
    "version": 3
   },
   "file_extension": ".py",
   "mimetype": "text/x-python",
   "name": "python",
   "nbconvert_exporter": "python",
   "pygments_lexer": "ipython3",
   "version": "3.6.6"
  }
 },
 "nbformat": 4,
 "nbformat_minor": 2
}
