{
 "cells": [
  {
   "cell_type": "markdown",
   "metadata": {},
   "source": [
    "# LB 02: Baseline"
   ]
  },
  {
   "cell_type": "code",
   "execution_count": 1,
   "metadata": {},
   "outputs": [],
   "source": [
    "import numpy as np\n",
    "import pandas as pd\n",
    "\n",
    "import matplotlib.pyplot as plt\n",
    "%matplotlib inline\n",
    "\n",
    "from sklearn.model_selection import cross_val_score"
   ]
  },
  {
   "cell_type": "code",
   "execution_count": 2,
   "metadata": {},
   "outputs": [],
   "source": [
    "train = pd.read_csv('Data/train_loans.csv', low_memory=False)"
   ]
  },
  {
   "cell_type": "code",
   "execution_count": 3,
   "metadata": {},
   "outputs": [],
   "source": [
    "test = pd.read_csv('Data/test_loans.csv', low_memory=False)"
   ]
  },
  {
   "cell_type": "markdown",
   "metadata": {},
   "source": [
    "## EDA"
   ]
  },
  {
   "cell_type": "code",
   "execution_count": 4,
   "metadata": {},
   "outputs": [],
   "source": [
    "###"
   ]
  },
  {
   "cell_type": "markdown",
   "metadata": {},
   "source": [
    "## Data preparation"
   ]
  },
  {
   "cell_type": "code",
   "execution_count": 5,
   "metadata": {},
   "outputs": [],
   "source": [
    "empty_value = 'Empty'\n",
    "unknown_value = 'Unknown'\n",
    "\n",
    "value_replace_dict = {\n",
    "    'Information not provided by applicant in mail, Internet, or telephone application': unknown_value\n",
    "}"
   ]
  },
  {
   "cell_type": "code",
   "execution_count": 6,
   "metadata": {},
   "outputs": [],
   "source": [
    "target_dict_encoder = {\n",
    "    'Loan originated': 1,\n",
    "    'Application denied by financial institution': 0\n",
    "}"
   ]
  },
  {
   "cell_type": "code",
   "execution_count": 7,
   "metadata": {},
   "outputs": [],
   "source": [
    "def convert_col_to_dummy_df(df_col):\n",
    "    col_name = df_col.name\n",
    "    # Add calculating frequencies of values here...\n",
    "    dummy_df = pd.get_dummies(df_col, prefix=col_name, prefix_sep=': ')\n",
    "    dummy_df_cols = {}\n",
    "    # Add formatting names here...\n",
    "    return dummy_df\n",
    "\n",
    "\n",
    "def prepare_dfs(train, test):\n",
    "    # 1. Convert and extract target variable\n",
    "    target_kwargs = {\n",
    "        'target': train['action_taken_name'].apply(lambda x: target_dict_encoder[x])\n",
    "    }\n",
    "    train = train.assign(**target_kwargs)\n",
    "    y_train = train['target']\n",
    "    train = train.drop('target', axis=1)\n",
    "    \n",
    "    # 2. Join dataframes\n",
    "    train_size = train.shape[0]\n",
    "    df = pd.concat([train, test], axis=0, ignore_index=True, sort=False)\n",
    "    \n",
    "    # 3. Drop extra columns\n",
    "    deleted_cols = [\n",
    "        #'applicant_income_000s','loan_amount_000s', 'applicant_race_name_1',\n",
    "        'action_taken_name', 'agency_abbr', 'agency_name',\n",
    "        'applicant_ethnicity_name',\n",
    "        'applicant_race_name_2', 'applicant_race_name_3', 'applicant_race_name_4',\n",
    "        'applicant_race_name_5', 'applicant_sex_name', 'as_of_year',\n",
    "        'census_tract_number', 'co_applicant_ethnicity_name',\n",
    "        'co_applicant_race_name_1', 'co_applicant_race_name_2',\n",
    "        'co_applicant_race_name_3', 'co_applicant_race_name_4',\n",
    "        'co_applicant_race_name_5', 'co_applicant_sex_name', 'county_code',\n",
    "        'county_name', 'hoepa_status_name', 'lien_status_name',\n",
    "        'loan_purpose_name', 'loan_type_name', 'msamd', 'msamd_name',\n",
    "        'owner_occupancy_name', 'preapproval_name', 'property_type_name',\n",
    "        'respondent_id', 'state_code', 'state_abbr', 'state_name',\n",
    "        'hud_median_family_income', \n",
    "        'number_of_1_to_4_family_units', 'number_of_owner_occupied_units',\n",
    "        'minority_population', 'population', 'rate_spread',\n",
    "        'tract_to_msamd_income'\n",
    "    ]\n",
    "    df = df.drop(deleted_cols, axis=1)\n",
    "    \n",
    "    # 4. Replace some values\n",
    "    for col in df.columns:\n",
    "        if df[col].dtype == 'object':\n",
    "            for repl_key, repl_v in value_replace_dict.items():\n",
    "                df.loc[df[col] == repl_key, col] = repl_v\n",
    "    \n",
    "    # 5. Encode categorical features\n",
    "    for col_name in df.columns:\n",
    "        col_series = df[col_name]\n",
    "        if col_series.dtype == 'object':\n",
    "            print('Applying categorical encoding to %s...' % col_name)\n",
    "            dummy_df = convert_col_to_dummy_df(col_series)\n",
    "            df.drop(col_name, axis=1, inplace=True)\n",
    "            df = pd.concat([df, dummy_df], axis=1)\n",
    "    \n",
    "    # 6. Split data into train and test\n",
    "    X_train = df[:train_size]\n",
    "    X_test = df[train_size:]\n",
    "    \n",
    "    return X_train, X_test, y_train"
   ]
  },
  {
   "cell_type": "code",
   "execution_count": 8,
   "metadata": {},
   "outputs": [
    {
     "name": "stdout",
     "output_type": "stream",
     "text": [
      "Applying categorical encoding to applicant_race_name_1...\n"
     ]
    }
   ],
   "source": [
    "X_train, X_test, y_train = prepare_dfs(train, test)"
   ]
  },
  {
   "cell_type": "code",
   "execution_count": 9,
   "metadata": {},
   "outputs": [
    {
     "data": {
      "text/html": [
       "<div>\n",
       "<style scoped>\n",
       "    .dataframe tbody tr th:only-of-type {\n",
       "        vertical-align: middle;\n",
       "    }\n",
       "\n",
       "    .dataframe tbody tr th {\n",
       "        vertical-align: top;\n",
       "    }\n",
       "\n",
       "    .dataframe thead th {\n",
       "        text-align: right;\n",
       "    }\n",
       "</style>\n",
       "<table border=\"1\" class=\"dataframe\">\n",
       "  <thead>\n",
       "    <tr style=\"text-align: right;\">\n",
       "      <th></th>\n",
       "      <th>applicant_income_000s</th>\n",
       "      <th>loan_amount_000s</th>\n",
       "      <th>applicant_race_name_1: American Indian or Alaska Native</th>\n",
       "      <th>applicant_race_name_1: Asian</th>\n",
       "      <th>applicant_race_name_1: Black or African American</th>\n",
       "      <th>applicant_race_name_1: Native Hawaiian or Other Pacific Islander</th>\n",
       "      <th>applicant_race_name_1: Not applicable</th>\n",
       "      <th>applicant_race_name_1: Unknown</th>\n",
       "      <th>applicant_race_name_1: White</th>\n",
       "    </tr>\n",
       "  </thead>\n",
       "  <tbody>\n",
       "    <tr>\n",
       "      <th>0</th>\n",
       "      <td>297.0</td>\n",
       "      <td>556.0</td>\n",
       "      <td>0</td>\n",
       "      <td>0</td>\n",
       "      <td>0</td>\n",
       "      <td>0</td>\n",
       "      <td>0</td>\n",
       "      <td>0</td>\n",
       "      <td>1</td>\n",
       "    </tr>\n",
       "    <tr>\n",
       "      <th>1</th>\n",
       "      <td>49.0</td>\n",
       "      <td>236.0</td>\n",
       "      <td>0</td>\n",
       "      <td>0</td>\n",
       "      <td>0</td>\n",
       "      <td>0</td>\n",
       "      <td>0</td>\n",
       "      <td>0</td>\n",
       "      <td>1</td>\n",
       "    </tr>\n",
       "    <tr>\n",
       "      <th>2</th>\n",
       "      <td>107.0</td>\n",
       "      <td>200.0</td>\n",
       "      <td>0</td>\n",
       "      <td>0</td>\n",
       "      <td>0</td>\n",
       "      <td>0</td>\n",
       "      <td>0</td>\n",
       "      <td>0</td>\n",
       "      <td>1</td>\n",
       "    </tr>\n",
       "    <tr>\n",
       "      <th>3</th>\n",
       "      <td>48.0</td>\n",
       "      <td>150.0</td>\n",
       "      <td>0</td>\n",
       "      <td>0</td>\n",
       "      <td>0</td>\n",
       "      <td>0</td>\n",
       "      <td>0</td>\n",
       "      <td>0</td>\n",
       "      <td>1</td>\n",
       "    </tr>\n",
       "    <tr>\n",
       "      <th>4</th>\n",
       "      <td>85.0</td>\n",
       "      <td>204.0</td>\n",
       "      <td>0</td>\n",
       "      <td>0</td>\n",
       "      <td>0</td>\n",
       "      <td>0</td>\n",
       "      <td>0</td>\n",
       "      <td>0</td>\n",
       "      <td>1</td>\n",
       "    </tr>\n",
       "  </tbody>\n",
       "</table>\n",
       "</div>"
      ],
      "text/plain": [
       "   applicant_income_000s  loan_amount_000s  \\\n",
       "0                  297.0             556.0   \n",
       "1                   49.0             236.0   \n",
       "2                  107.0             200.0   \n",
       "3                   48.0             150.0   \n",
       "4                   85.0             204.0   \n",
       "\n",
       "   applicant_race_name_1: American Indian or Alaska Native  \\\n",
       "0                                                  0         \n",
       "1                                                  0         \n",
       "2                                                  0         \n",
       "3                                                  0         \n",
       "4                                                  0         \n",
       "\n",
       "   applicant_race_name_1: Asian  \\\n",
       "0                             0   \n",
       "1                             0   \n",
       "2                             0   \n",
       "3                             0   \n",
       "4                             0   \n",
       "\n",
       "   applicant_race_name_1: Black or African American  \\\n",
       "0                                                 0   \n",
       "1                                                 0   \n",
       "2                                                 0   \n",
       "3                                                 0   \n",
       "4                                                 0   \n",
       "\n",
       "   applicant_race_name_1: Native Hawaiian or Other Pacific Islander  \\\n",
       "0                                                  0                  \n",
       "1                                                  0                  \n",
       "2                                                  0                  \n",
       "3                                                  0                  \n",
       "4                                                  0                  \n",
       "\n",
       "   applicant_race_name_1: Not applicable  applicant_race_name_1: Unknown  \\\n",
       "0                                      0                               0   \n",
       "1                                      0                               0   \n",
       "2                                      0                               0   \n",
       "3                                      0                               0   \n",
       "4                                      0                               0   \n",
       "\n",
       "   applicant_race_name_1: White  \n",
       "0                             1  \n",
       "1                             1  \n",
       "2                             1  \n",
       "3                             1  \n",
       "4                             1  "
      ]
     },
     "execution_count": 9,
     "metadata": {},
     "output_type": "execute_result"
    }
   ],
   "source": [
    "X_train.head()"
   ]
  },
  {
   "cell_type": "markdown",
   "metadata": {},
   "source": [
    "## Creating model"
   ]
  },
  {
   "cell_type": "code",
   "execution_count": 10,
   "metadata": {},
   "outputs": [],
   "source": [
    "from lightgbm import LGBMClassifier"
   ]
  },
  {
   "cell_type": "code",
   "execution_count": 11,
   "metadata": {},
   "outputs": [],
   "source": [
    "lgbm_clf = LGBMClassifier(\n",
    "    random_state=2018\n",
    ")"
   ]
  },
  {
   "cell_type": "code",
   "execution_count": 12,
   "metadata": {},
   "outputs": [],
   "source": [
    "cv_res = cross_val_score(lgbm_clf, X_train, y_train, scoring='roc_auc', n_jobs=1, cv=10)"
   ]
  },
  {
   "cell_type": "code",
   "execution_count": 13,
   "metadata": {},
   "outputs": [
    {
     "name": "stdout",
     "output_type": "stream",
     "text": [
      "Cross-validation score for LightGBM, ROC-AUC: mean=0.690471, std=0.003359\n"
     ]
    }
   ],
   "source": [
    "print(\"Cross-validation score for LightGBM, ROC-AUC: mean=%f, std=%f\" % (cv_res.mean(), cv_res.std()))"
   ]
  },
  {
   "cell_type": "code",
   "execution_count": 14,
   "metadata": {},
   "outputs": [
    {
     "data": {
      "text/plain": [
       "LGBMClassifier(boosting_type='gbdt', class_weight=None, colsample_bytree=1.0,\n",
       "        learning_rate=0.1, max_depth=-1, min_child_samples=20,\n",
       "        min_child_weight=0.001, min_split_gain=0.0, n_estimators=100,\n",
       "        n_jobs=-1, num_leaves=31, objective=None, random_state=2018,\n",
       "        reg_alpha=0.0, reg_lambda=0.0, silent=True, subsample=1.0,\n",
       "        subsample_for_bin=200000, subsample_freq=0)"
      ]
     },
     "execution_count": 14,
     "metadata": {},
     "output_type": "execute_result"
    }
   ],
   "source": [
    "lgbm_clf.fit(X_train, y_train)"
   ]
  },
  {
   "cell_type": "markdown",
   "metadata": {},
   "source": [
    "## Submission"
   ]
  },
  {
   "cell_type": "code",
   "execution_count": 15,
   "metadata": {},
   "outputs": [
    {
     "data": {
      "text/html": [
       "<div>\n",
       "<style scoped>\n",
       "    .dataframe tbody tr th:only-of-type {\n",
       "        vertical-align: middle;\n",
       "    }\n",
       "\n",
       "    .dataframe tbody tr th {\n",
       "        vertical-align: top;\n",
       "    }\n",
       "\n",
       "    .dataframe thead th {\n",
       "        text-align: right;\n",
       "    }\n",
       "</style>\n",
       "<table border=\"1\" class=\"dataframe\">\n",
       "  <thead>\n",
       "    <tr style=\"text-align: right;\">\n",
       "      <th></th>\n",
       "      <th>action_taken_name</th>\n",
       "    </tr>\n",
       "  </thead>\n",
       "  <tbody>\n",
       "    <tr>\n",
       "      <th>0</th>\n",
       "      <td>0.5</td>\n",
       "    </tr>\n",
       "    <tr>\n",
       "      <th>1</th>\n",
       "      <td>0.5</td>\n",
       "    </tr>\n",
       "    <tr>\n",
       "      <th>2</th>\n",
       "      <td>0.5</td>\n",
       "    </tr>\n",
       "    <tr>\n",
       "      <th>3</th>\n",
       "      <td>0.5</td>\n",
       "    </tr>\n",
       "    <tr>\n",
       "      <th>4</th>\n",
       "      <td>0.5</td>\n",
       "    </tr>\n",
       "  </tbody>\n",
       "</table>\n",
       "</div>"
      ],
      "text/plain": [
       "   action_taken_name\n",
       "0                0.5\n",
       "1                0.5\n",
       "2                0.5\n",
       "3                0.5\n",
       "4                0.5"
      ]
     },
     "execution_count": 15,
     "metadata": {},
     "output_type": "execute_result"
    }
   ],
   "source": [
    "answers = pd.read_csv('Data/baseline_submission.csv')\n",
    "answers.head()"
   ]
  },
  {
   "cell_type": "code",
   "execution_count": 16,
   "metadata": {},
   "outputs": [],
   "source": [
    "preds = lgbm_clf.predict_proba(X_test)"
   ]
  },
  {
   "cell_type": "code",
   "execution_count": 17,
   "metadata": {},
   "outputs": [
    {
     "data": {
      "text/html": [
       "<div>\n",
       "<style scoped>\n",
       "    .dataframe tbody tr th:only-of-type {\n",
       "        vertical-align: middle;\n",
       "    }\n",
       "\n",
       "    .dataframe tbody tr th {\n",
       "        vertical-align: top;\n",
       "    }\n",
       "\n",
       "    .dataframe thead th {\n",
       "        text-align: right;\n",
       "    }\n",
       "</style>\n",
       "<table border=\"1\" class=\"dataframe\">\n",
       "  <thead>\n",
       "    <tr style=\"text-align: right;\">\n",
       "      <th></th>\n",
       "      <th>action_taken_name</th>\n",
       "    </tr>\n",
       "  </thead>\n",
       "  <tbody>\n",
       "    <tr>\n",
       "      <th>0</th>\n",
       "      <td>0.889030</td>\n",
       "    </tr>\n",
       "    <tr>\n",
       "      <th>1</th>\n",
       "      <td>0.792846</td>\n",
       "    </tr>\n",
       "    <tr>\n",
       "      <th>2</th>\n",
       "      <td>0.904819</td>\n",
       "    </tr>\n",
       "    <tr>\n",
       "      <th>3</th>\n",
       "      <td>0.912100</td>\n",
       "    </tr>\n",
       "    <tr>\n",
       "      <th>4</th>\n",
       "      <td>0.868797</td>\n",
       "    </tr>\n",
       "  </tbody>\n",
       "</table>\n",
       "</div>"
      ],
      "text/plain": [
       "   action_taken_name\n",
       "0           0.889030\n",
       "1           0.792846\n",
       "2           0.904819\n",
       "3           0.912100\n",
       "4           0.868797"
      ]
     },
     "execution_count": 17,
     "metadata": {},
     "output_type": "execute_result"
    }
   ],
   "source": [
    "answers['action_taken_name'] = preds[:, 1]\n",
    "answers.head()"
   ]
  },
  {
   "cell_type": "code",
   "execution_count": 18,
   "metadata": {},
   "outputs": [],
   "source": [
    "file_name = \"submission_ВоробейВладислав.csv\"\n",
    "answers.to_csv(file_name, index=False)"
   ]
  },
  {
   "cell_type": "code",
   "execution_count": null,
   "metadata": {},
   "outputs": [],
   "source": []
  }
 ],
 "metadata": {
  "kernelspec": {
   "display_name": "Python [conda env:classical_ml]",
   "language": "python",
   "name": "conda-env-classical_ml-py"
  },
  "language_info": {
   "codemirror_mode": {
    "name": "ipython",
    "version": 3
   },
   "file_extension": ".py",
   "mimetype": "text/x-python",
   "name": "python",
   "nbconvert_exporter": "python",
   "pygments_lexer": "ipython3",
   "version": "3.6.6"
  }
 },
 "nbformat": 4,
 "nbformat_minor": 2
}
